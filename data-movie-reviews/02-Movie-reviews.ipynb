{
 "cells": [
  {
   "cell_type": "markdown",
   "metadata": {},
   "source": [
    "# Movie Reviews and Bag-of-Words Modelling"
   ]
  },
  {
   "cell_type": "markdown",
   "metadata": {},
   "source": [
    "🎯 The goal of this challenge is to play with the ***Bag-of-words*** modelling of texts."
   ]
  },
  {
   "cell_type": "markdown",
   "metadata": {},
   "source": [
    "✍️ In the following dataset, we have $2000$ reviews classified either as _\"positive\"_ or _\"negative\"_."
   ]
  },
  {
   "cell_type": "code",
   "execution_count": 3,
   "metadata": {},
   "outputs": [
    {
     "data": {
      "text/html": [
       "<div>\n",
       "<style scoped>\n",
       "    .dataframe tbody tr th:only-of-type {\n",
       "        vertical-align: middle;\n",
       "    }\n",
       "\n",
       "    .dataframe tbody tr th {\n",
       "        vertical-align: top;\n",
       "    }\n",
       "\n",
       "    .dataframe thead th {\n",
       "        text-align: right;\n",
       "    }\n",
       "</style>\n",
       "<table border=\"1\" class=\"dataframe\">\n",
       "  <thead>\n",
       "    <tr style=\"text-align: right;\">\n",
       "      <th></th>\n",
       "      <th>target</th>\n",
       "      <th>reviews</th>\n",
       "    </tr>\n",
       "  </thead>\n",
       "  <tbody>\n",
       "    <tr>\n",
       "      <th>0</th>\n",
       "      <td>neg</td>\n",
       "      <td>plot : two teen couples go to a church party ,...</td>\n",
       "    </tr>\n",
       "    <tr>\n",
       "      <th>1</th>\n",
       "      <td>neg</td>\n",
       "      <td>the happy bastard's quick movie review \\ndamn ...</td>\n",
       "    </tr>\n",
       "    <tr>\n",
       "      <th>2</th>\n",
       "      <td>neg</td>\n",
       "      <td>it is movies like these that make a jaded movi...</td>\n",
       "    </tr>\n",
       "    <tr>\n",
       "      <th>3</th>\n",
       "      <td>neg</td>\n",
       "      <td>\" quest for camelot \" is warner bros . ' firs...</td>\n",
       "    </tr>\n",
       "    <tr>\n",
       "      <th>4</th>\n",
       "      <td>neg</td>\n",
       "      <td>synopsis : a mentally unstable man undergoing ...</td>\n",
       "    </tr>\n",
       "  </tbody>\n",
       "</table>\n",
       "</div>"
      ],
      "text/plain": [
       "  target                                            reviews\n",
       "0    neg  plot : two teen couples go to a church party ,...\n",
       "1    neg  the happy bastard's quick movie review \\ndamn ...\n",
       "2    neg  it is movies like these that make a jaded movi...\n",
       "3    neg   \" quest for camelot \" is warner bros . ' firs...\n",
       "4    neg  synopsis : a mentally unstable man undergoing ..."
      ]
     },
     "execution_count": 3,
     "metadata": {},
     "output_type": "execute_result"
    }
   ],
   "source": [
    "import pandas as pd\n",
    "\n",
    "data = pd.read_csv(\"https://wagon-public-datasets.s3.amazonaws.com/05-Machine-Learning/10-Natural-Language-Processing/movie_reviews.csv\")\n",
    "data.head()"
   ]
  },
  {
   "cell_type": "code",
   "execution_count": 5,
   "metadata": {},
   "outputs": [
    {
     "data": {
      "text/html": [
       "<div>\n",
       "<style scoped>\n",
       "    .dataframe tbody tr th:only-of-type {\n",
       "        vertical-align: middle;\n",
       "    }\n",
       "\n",
       "    .dataframe tbody tr th {\n",
       "        vertical-align: top;\n",
       "    }\n",
       "\n",
       "    .dataframe thead th {\n",
       "        text-align: right;\n",
       "    }\n",
       "</style>\n",
       "<table border=\"1\" class=\"dataframe\">\n",
       "  <thead>\n",
       "    <tr style=\"text-align: right;\">\n",
       "      <th></th>\n",
       "      <th>target</th>\n",
       "      <th>reviews</th>\n",
       "    </tr>\n",
       "  </thead>\n",
       "  <tbody>\n",
       "    <tr>\n",
       "      <th>1995</th>\n",
       "      <td>pos</td>\n",
       "      <td>wow ! what a movie . \\nit's everything a movie...</td>\n",
       "    </tr>\n",
       "    <tr>\n",
       "      <th>1996</th>\n",
       "      <td>pos</td>\n",
       "      <td>richard gere can be a commanding actor , but h...</td>\n",
       "    </tr>\n",
       "    <tr>\n",
       "      <th>1997</th>\n",
       "      <td>pos</td>\n",
       "      <td>glory--starring matthew broderick , denzel was...</td>\n",
       "    </tr>\n",
       "    <tr>\n",
       "      <th>1998</th>\n",
       "      <td>pos</td>\n",
       "      <td>steven spielberg's second epic film on world w...</td>\n",
       "    </tr>\n",
       "    <tr>\n",
       "      <th>1999</th>\n",
       "      <td>pos</td>\n",
       "      <td>truman ( \" true-man \" ) burbank is the perfect...</td>\n",
       "    </tr>\n",
       "  </tbody>\n",
       "</table>\n",
       "</div>"
      ],
      "text/plain": [
       "     target                                            reviews\n",
       "1995    pos  wow ! what a movie . \\nit's everything a movie...\n",
       "1996    pos  richard gere can be a commanding actor , but h...\n",
       "1997    pos  glory--starring matthew broderick , denzel was...\n",
       "1998    pos  steven spielberg's second epic film on world w...\n",
       "1999    pos  truman ( \" true-man \" ) burbank is the perfect..."
      ]
     },
     "execution_count": 5,
     "metadata": {},
     "output_type": "execute_result"
    }
   ],
   "source": [
    "data.tail()"
   ]
  },
  {
   "cell_type": "markdown",
   "metadata": {},
   "source": [
    "## 1. Preprocessing"
   ]
  },
  {
   "cell_type": "markdown",
   "metadata": {},
   "source": [
    "❓ **Question (Cleaning Text)** ❓\n",
    "\n",
    "- Write a function `preprocessing` that will clean a sentence and apply it to all our reviews. It should:\n",
    "    - remove whitespace\n",
    "    - lowercase characters\n",
    "    - remove numbers\n",
    "    - remove punctuation\n",
    "    - tokenize\n",
    "    - lemmatize\n",
    "- You can store the cleaned reviews into a column called `clean_reviews`.\n",
    "- Do not remove stopwords in this challenge, we will explain why in the section `3. N-gram modelling`"
   ]
  },
  {
   "cell_type": "code",
   "execution_count": 6,
   "metadata": {},
   "outputs": [
    {
     "name": "stderr",
     "output_type": "stream",
     "text": [
      "[nltk_data] Downloading package punkt to\n",
      "[nltk_data]     /Users/ramzimalhas/nltk_data...\n",
      "[nltk_data]   Package punkt is already up-to-date!\n",
      "[nltk_data] Downloading package wordnet to\n",
      "[nltk_data]     /Users/ramzimalhas/nltk_data...\n",
      "[nltk_data]   Package wordnet is already up-to-date!\n"
     ]
    },
    {
     "name": "stdout",
     "output_type": "stream",
     "text": [
      "0       plot two teen couple go to a church party drin...\n",
      "1       the happy bastard quick movie review damn that...\n",
      "2       it is movie like these that make a jaded movie...\n",
      "3       quest for camelot is warner bros first feature...\n",
      "4       synopsis a mentally unstable man undergoing ps...\n",
      "                              ...                        \n",
      "1995    wow what a movie it everything a movie can be ...\n",
      "1996    richard gere can be a commanding actor but he ...\n",
      "1997    glorystarring matthew broderick denzel washing...\n",
      "1998    steven spielberg second epic film on world war...\n",
      "1999    truman trueman burbank is the perfect name for...\n",
      "Name: cleaned_reviews, Length: 2000, dtype: object\n"
     ]
    }
   ],
   "source": [
    "#def preprocessing(sentence):\n",
    "    \n",
    "import pandas as pd\n",
    "import re\n",
    "import string\n",
    "from nltk.tokenize import word_tokenize\n",
    "from nltk.stem import WordNetLemmatizer\n",
    "\n",
    "# Ensure necessary NLTK data is downloaded\n",
    "import nltk\n",
    "nltk.download('punkt')\n",
    "nltk.download('wordnet')\n",
    "\n",
    "# Initialize the lemmatizer\n",
    "lemmatizer = WordNetLemmatizer()\n",
    "\n",
    "def preprocess(text):\n",
    "    # Remove whitespace and lowercase\n",
    "    text = text.strip().lower()\n",
    "    # Remove numbers\n",
    "    text = re.sub(r'\\d+', '', text)\n",
    "    # Remove punctuation\n",
    "    text = text.translate(str.maketrans('', '', string.punctuation))\n",
    "    # Tokenize\n",
    "    tokens = word_tokenize(text)\n",
    "    # Lemmatize\n",
    "    tokens = [lemmatizer.lemmatize(word) for word in tokens]\n",
    "    return ' '.join(tokens)  # Join tokens back to string\n",
    "\n",
    "data = pd.DataFrame(data)\n",
    "\n",
    "# Apply preprocessing to all reviews\n",
    "data['cleaned_reviews'] = data['reviews'].apply(preprocess)\n",
    "\n",
    "# Display the cleaned reviews\n",
    "print(data['cleaned_reviews'])\n",
    "\n",
    "\n"
   ]
  },
  {
   "cell_type": "code",
   "execution_count": 7,
   "metadata": {},
   "outputs": [
    {
     "data": {
      "text/html": [
       "<div>\n",
       "<style scoped>\n",
       "    .dataframe tbody tr th:only-of-type {\n",
       "        vertical-align: middle;\n",
       "    }\n",
       "\n",
       "    .dataframe tbody tr th {\n",
       "        vertical-align: top;\n",
       "    }\n",
       "\n",
       "    .dataframe thead th {\n",
       "        text-align: right;\n",
       "    }\n",
       "</style>\n",
       "<table border=\"1\" class=\"dataframe\">\n",
       "  <thead>\n",
       "    <tr style=\"text-align: right;\">\n",
       "      <th></th>\n",
       "      <th>target</th>\n",
       "      <th>reviews</th>\n",
       "      <th>cleaned_reviews</th>\n",
       "    </tr>\n",
       "  </thead>\n",
       "  <tbody>\n",
       "    <tr>\n",
       "      <th>0</th>\n",
       "      <td>neg</td>\n",
       "      <td>plot : two teen couples go to a church party ,...</td>\n",
       "      <td>plot two teen couple go to a church party drin...</td>\n",
       "    </tr>\n",
       "    <tr>\n",
       "      <th>1</th>\n",
       "      <td>neg</td>\n",
       "      <td>the happy bastard's quick movie review \\ndamn ...</td>\n",
       "      <td>the happy bastard quick movie review damn that...</td>\n",
       "    </tr>\n",
       "    <tr>\n",
       "      <th>2</th>\n",
       "      <td>neg</td>\n",
       "      <td>it is movies like these that make a jaded movi...</td>\n",
       "      <td>it is movie like these that make a jaded movie...</td>\n",
       "    </tr>\n",
       "    <tr>\n",
       "      <th>3</th>\n",
       "      <td>neg</td>\n",
       "      <td>\" quest for camelot \" is warner bros . ' firs...</td>\n",
       "      <td>quest for camelot is warner bros first feature...</td>\n",
       "    </tr>\n",
       "    <tr>\n",
       "      <th>4</th>\n",
       "      <td>neg</td>\n",
       "      <td>synopsis : a mentally unstable man undergoing ...</td>\n",
       "      <td>synopsis a mentally unstable man undergoing ps...</td>\n",
       "    </tr>\n",
       "    <tr>\n",
       "      <th>...</th>\n",
       "      <td>...</td>\n",
       "      <td>...</td>\n",
       "      <td>...</td>\n",
       "    </tr>\n",
       "    <tr>\n",
       "      <th>1995</th>\n",
       "      <td>pos</td>\n",
       "      <td>wow ! what a movie . \\nit's everything a movie...</td>\n",
       "      <td>wow what a movie it everything a movie can be ...</td>\n",
       "    </tr>\n",
       "    <tr>\n",
       "      <th>1996</th>\n",
       "      <td>pos</td>\n",
       "      <td>richard gere can be a commanding actor , but h...</td>\n",
       "      <td>richard gere can be a commanding actor but he ...</td>\n",
       "    </tr>\n",
       "    <tr>\n",
       "      <th>1997</th>\n",
       "      <td>pos</td>\n",
       "      <td>glory--starring matthew broderick , denzel was...</td>\n",
       "      <td>glorystarring matthew broderick denzel washing...</td>\n",
       "    </tr>\n",
       "    <tr>\n",
       "      <th>1998</th>\n",
       "      <td>pos</td>\n",
       "      <td>steven spielberg's second epic film on world w...</td>\n",
       "      <td>steven spielberg second epic film on world war...</td>\n",
       "    </tr>\n",
       "    <tr>\n",
       "      <th>1999</th>\n",
       "      <td>pos</td>\n",
       "      <td>truman ( \" true-man \" ) burbank is the perfect...</td>\n",
       "      <td>truman trueman burbank is the perfect name for...</td>\n",
       "    </tr>\n",
       "  </tbody>\n",
       "</table>\n",
       "<p>2000 rows × 3 columns</p>\n",
       "</div>"
      ],
      "text/plain": [
       "     target                                            reviews  \\\n",
       "0       neg  plot : two teen couples go to a church party ,...   \n",
       "1       neg  the happy bastard's quick movie review \\ndamn ...   \n",
       "2       neg  it is movies like these that make a jaded movi...   \n",
       "3       neg   \" quest for camelot \" is warner bros . ' firs...   \n",
       "4       neg  synopsis : a mentally unstable man undergoing ...   \n",
       "...     ...                                                ...   \n",
       "1995    pos  wow ! what a movie . \\nit's everything a movie...   \n",
       "1996    pos  richard gere can be a commanding actor , but h...   \n",
       "1997    pos  glory--starring matthew broderick , denzel was...   \n",
       "1998    pos  steven spielberg's second epic film on world w...   \n",
       "1999    pos  truman ( \" true-man \" ) burbank is the perfect...   \n",
       "\n",
       "                                        cleaned_reviews  \n",
       "0     plot two teen couple go to a church party drin...  \n",
       "1     the happy bastard quick movie review damn that...  \n",
       "2     it is movie like these that make a jaded movie...  \n",
       "3     quest for camelot is warner bros first feature...  \n",
       "4     synopsis a mentally unstable man undergoing ps...  \n",
       "...                                                 ...  \n",
       "1995  wow what a movie it everything a movie can be ...  \n",
       "1996  richard gere can be a commanding actor but he ...  \n",
       "1997  glorystarring matthew broderick denzel washing...  \n",
       "1998  steven spielberg second epic film on world war...  \n",
       "1999  truman trueman burbank is the perfect name for...  \n",
       "\n",
       "[2000 rows x 3 columns]"
      ]
     },
     "execution_count": 7,
     "metadata": {},
     "output_type": "execute_result"
    }
   ],
   "source": [
    "data"
   ]
  },
  {
   "cell_type": "markdown",
   "metadata": {},
   "source": [
    "❓ **Question (LabelEncoding)**❓\n",
    "\n",
    "LabelEncode your target and store it into a column called `\"target_encoded\"`"
   ]
  },
  {
   "cell_type": "code",
   "execution_count": 8,
   "metadata": {
    "tags": [
     "challengify"
    ]
   },
   "outputs": [
    {
     "name": "stdout",
     "output_type": "stream",
     "text": [
      "     target  target_encoded                                    cleaned_reviews\n",
      "0       neg               0  plot two teen couple go to a church party drin...\n",
      "1       neg               0  the happy bastard quick movie review damn that...\n",
      "2       neg               0  it is movie like these that make a jaded movie...\n",
      "3       neg               0  quest for camelot is warner bros first feature...\n",
      "4       neg               0  synopsis a mentally unstable man undergoing ps...\n",
      "...     ...             ...                                                ...\n",
      "1995    pos               1  wow what a movie it everything a movie can be ...\n",
      "1996    pos               1  richard gere can be a commanding actor but he ...\n",
      "1997    pos               1  glorystarring matthew broderick denzel washing...\n",
      "1998    pos               1  steven spielberg second epic film on world war...\n",
      "1999    pos               1  truman trueman burbank is the perfect name for...\n",
      "\n",
      "[2000 rows x 3 columns]\n"
     ]
    }
   ],
   "source": [
    "from sklearn.preprocessing import LabelEncoder\n",
    "\n",
    "label_encoder = LabelEncoder()\n",
    "data['target_encoded'] = label_encoder.fit_transform(data['target'])\n",
    "\n",
    "# Display the DataFrame with the new encoded column\n",
    "print(data[['target', 'target_encoded', 'cleaned_reviews']])"
   ]
  },
  {
   "cell_type": "code",
   "execution_count": 30,
   "metadata": {},
   "outputs": [
    {
     "data": {
      "text/html": [
       "<div>\n",
       "<style scoped>\n",
       "    .dataframe tbody tr th:only-of-type {\n",
       "        vertical-align: middle;\n",
       "    }\n",
       "\n",
       "    .dataframe tbody tr th {\n",
       "        vertical-align: top;\n",
       "    }\n",
       "\n",
       "    .dataframe thead th {\n",
       "        text-align: right;\n",
       "    }\n",
       "</style>\n",
       "<table border=\"1\" class=\"dataframe\">\n",
       "  <thead>\n",
       "    <tr style=\"text-align: right;\">\n",
       "      <th></th>\n",
       "      <th>target</th>\n",
       "      <th>reviews</th>\n",
       "      <th>cleaned_reviews</th>\n",
       "      <th>target_encoded</th>\n",
       "    </tr>\n",
       "  </thead>\n",
       "  <tbody>\n",
       "    <tr>\n",
       "      <th>0</th>\n",
       "      <td>neg</td>\n",
       "      <td>plot : two teen couples go to a church party ,...</td>\n",
       "      <td>[plot, two, teen, couple, go, to, a, church, p...</td>\n",
       "      <td>0</td>\n",
       "    </tr>\n",
       "    <tr>\n",
       "      <th>1</th>\n",
       "      <td>neg</td>\n",
       "      <td>the happy bastard's quick movie review \\ndamn ...</td>\n",
       "      <td>[the, happy, bastard, quick, movie, review, damn]</td>\n",
       "      <td>0</td>\n",
       "    </tr>\n",
       "    <tr>\n",
       "      <th>2</th>\n",
       "      <td>neg</td>\n",
       "      <td>it is movies like these that make a jaded movi...</td>\n",
       "      <td>[it, is, movie, like, these, that, make, a, ja...</td>\n",
       "      <td>0</td>\n",
       "    </tr>\n",
       "    <tr>\n",
       "      <th>3</th>\n",
       "      <td>neg</td>\n",
       "      <td>\" quest for camelot \" is warner bros . ' firs...</td>\n",
       "      <td>[quest, for, camelot, is, warner, bros, fir]</td>\n",
       "      <td>0</td>\n",
       "    </tr>\n",
       "    <tr>\n",
       "      <th>4</th>\n",
       "      <td>neg</td>\n",
       "      <td>synopsis : a mentally unstable man undergoing ...</td>\n",
       "      <td>[synopsis, a, mentally, unstable, man, undergo...</td>\n",
       "      <td>0</td>\n",
       "    </tr>\n",
       "  </tbody>\n",
       "</table>\n",
       "</div>"
      ],
      "text/plain": [
       "  target                                            reviews  \\\n",
       "0    neg  plot : two teen couples go to a church party ,...   \n",
       "1    neg  the happy bastard's quick movie review \\ndamn ...   \n",
       "2    neg  it is movies like these that make a jaded movi...   \n",
       "3    neg   \" quest for camelot \" is warner bros . ' firs...   \n",
       "4    neg  synopsis : a mentally unstable man undergoing ...   \n",
       "\n",
       "                                     cleaned_reviews  target_encoded  \n",
       "0  [plot, two, teen, couple, go, to, a, church, p...               0  \n",
       "1  [the, happy, bastard, quick, movie, review, damn]               0  \n",
       "2  [it, is, movie, like, these, that, make, a, ja...               0  \n",
       "3       [quest, for, camelot, is, warner, bros, fir]               0  \n",
       "4  [synopsis, a, mentally, unstable, man, undergo...               0  "
      ]
     },
     "execution_count": 30,
     "metadata": {},
     "output_type": "execute_result"
    }
   ],
   "source": [
    "# Quick check\n",
    "data.head()"
   ]
  },
  {
   "cell_type": "markdown",
   "metadata": {},
   "source": [
    "## 2. Bag-of-Words Modelling"
   ]
  },
  {
   "cell_type": "markdown",
   "metadata": {},
   "source": [
    "❓ **Question (NaiveBayes with unigrams)** ❓\n",
    "\n",
    "Using `cross_validate`, score a Multinomial Naive Bayes model trained on a Bag-of-Words representation of the texts."
   ]
  },
  {
   "cell_type": "code",
   "execution_count": 9,
   "metadata": {
    "tags": [
     "challengify"
    ]
   },
   "outputs": [
    {
     "name": "stdout",
     "output_type": "stream",
     "text": [
      "Cross-validation scores: [0.805 0.82  0.805 0.835 0.815]\n",
      "Mean accuracy: 0.8160000000000001\n"
     ]
    }
   ],
   "source": [
    "from sklearn.naive_bayes import MultinomialNB\n",
    "from sklearn.feature_extraction.text import CountVectorizer\n",
    "from sklearn.model_selection import cross_validate\n",
    "\n",
    "vectorizer = CountVectorizer()\n",
    "X = vectorizer.fit_transform(data['cleaned_reviews'])\n",
    "\n",
    "# Define the target variable\n",
    "y = data['target_encoded']\n",
    "\n",
    "# Initialize the Multinomial Naive Bayes model\n",
    "model = MultinomialNB()\n",
    "\n",
    "# Perform cross-validation\n",
    "cv_results = cross_validate(model, X, y, cv=5, scoring='accuracy')\n",
    "\n",
    "# Display the results\n",
    "print(\"Cross-validation scores:\", cv_results['test_score'])\n",
    "print(\"Mean accuracy:\", cv_results['test_score'].mean())"
   ]
  },
  {
   "cell_type": "markdown",
   "metadata": {},
   "source": [
    "## 3. N-gram Modelling"
   ]
  },
  {
   "cell_type": "markdown",
   "metadata": {},
   "source": [
    "👀 Remember that we asked you not to remove stopwords. Why? \n",
    "\n",
    "👉 We will train the Naive Bayes model with bigrams. Hence, in sentence like \"I do not like coriander\", it is important to scan the bigram \"do not\" to detect negativity in this sentence for example."
   ]
  },
  {
   "cell_type": "markdown",
   "metadata": {},
   "source": [
    "❓ **Question (NaiveBayes with bigrams)** ❓\n",
    "\n",
    "Using `cross_validate`, score a Multinomial Naive Bayes model trained on a 2-gram Bag-of-Words representation of the texts."
   ]
  },
  {
   "cell_type": "code",
   "execution_count": 10,
   "metadata": {},
   "outputs": [
    {
     "data": {
      "text/plain": [
       "0.84"
      ]
     },
     "execution_count": 10,
     "metadata": {},
     "output_type": "execute_result"
    }
   ],
   "source": [
    "vectorizer = CountVectorizer(ngram_range = (2,2))\n",
    "naivebayes = MultinomialNB()\n",
    "\n",
    "X_bow = vectorizer.fit_transform(data.cleaned_reviews)\n",
    "\n",
    "cv_nb = cross_validate(\n",
    "    naivebayes,\n",
    "    X_bow,\n",
    "    data.target_encoded,\n",
    "    scoring = \"accuracy\"\n",
    ")\n",
    "\n",
    "round(cv_nb['test_score'].mean(),2)"
   ]
  },
  {
   "cell_type": "code",
   "execution_count": 12,
   "metadata": {},
   "outputs": [
    {
     "name": "stdout",
     "output_type": "stream",
     "text": [
      "fatal: not a git repository (or any of the parent directories): .git\n"
     ]
    }
   ],
   "source": [
    "!git add . && git commit -m \"Completed Movie Reviews Challenge\" && git push origin master\n"
   ]
  },
  {
   "cell_type": "markdown",
   "metadata": {},
   "source": [
    "🏁 Congratulations! Now, you know how to train a Naive Bayes model on vectorized texts.\n",
    "\n",
    "💾 Don't forget to `git add/commit/push` your notebook...\n",
    "\n",
    "🚀 ... and move on to the next challenge!"
   ]
  }
 ],
 "metadata": {
  "kernelspec": {
   "display_name": "Python 3 (ipykernel)",
   "language": "python",
   "name": "python3"
  },
  "language_info": {
   "codemirror_mode": {
    "name": "ipython",
    "version": 3
   },
   "file_extension": ".py",
   "mimetype": "text/x-python",
   "name": "python",
   "nbconvert_exporter": "python",
   "pygments_lexer": "ipython3",
   "version": "3.10.6"
  }
 },
 "nbformat": 4,
 "nbformat_minor": 4
}
